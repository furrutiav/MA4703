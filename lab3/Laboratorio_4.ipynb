{
 "cells": [
  {
   "cell_type": "markdown",
   "metadata": {},
   "source": [
    "# Parte A"
   ]
  },
  {
   "cell_type": "markdown",
   "metadata": {},
   "source": [
    "## Ejercicio 1"
   ]
  },
  {
   "cell_type": "code",
   "execution_count": 7,
   "metadata": {},
   "outputs": [],
   "source": [
    "import numpy as np\n",
    "import control"
   ]
  },
  {
   "cell_type": "code",
   "execution_count": 6,
   "metadata": {},
   "outputs": [],
   "source": [
    "i0 = 1\n",
    "L1 = 3.5\n",
    "L2 = 2\n",
    "Rc = 1\n",
    "Rw = 3\n",
    "alpha = 0.9\n",
    "a = 5\n",
    "\n",
    "const = 1/((1-alpha*alpha)*L1*L2)\n",
    "K = alpha * np.sqrt(L1*L2) \n",
    "A = const * np.array([\n",
    "    [-L2*Rc, alpha*np.sqrt(L1*L2)*Rw],\n",
    "    [np.sqrt(L1*L2)*Rc, -L1*Rw]\n",
    "])\n",
    "B = const * np.array([[L2], [-K]])"
   ]
  },
  {
   "cell_type": "code",
   "execution_count": 12,
   "metadata": {},
   "outputs": [
    {
     "name": "stdout",
     "output_type": "stream",
     "text": [
      "Kalman: [[  1.5037594  -11.87743796]\n",
      " [ -1.79035803  17.12581407]]\n",
      "Rango de kalman: 2\n"
     ]
    }
   ],
   "source": [
    "kalman = control.ctrb(A, B)\n",
    "rank_kalman = np.linalg.matrix_rank(kalman)\n",
    "print(\"Kalman:\", kalman)\n",
    "print(\"Rango de kalman:\", rank_kalman)"
   ]
  }
 ],
 "metadata": {
  "kernelspec": {
   "display_name": "Python 3",
   "language": "python",
   "name": "python3"
  },
  "language_info": {
   "codemirror_mode": {
    "name": "ipython",
    "version": 3
   },
   "file_extension": ".py",
   "mimetype": "text/x-python",
   "name": "python",
   "nbconvert_exporter": "python",
   "pygments_lexer": "ipython3",
   "version": "3.8.12"
  }
 },
 "nbformat": 4,
 "nbformat_minor": 4
}
