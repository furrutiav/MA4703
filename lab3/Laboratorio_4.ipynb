{
 "cells": [
  {
   "cell_type": "markdown",
   "metadata": {},
   "source": [
    "# Parte A"
   ]
  },
  {
   "cell_type": "markdown",
   "metadata": {},
   "source": [
    "## Ejercicio 2"
   ]
  },
  {
   "cell_type": "code",
   "execution_count": 7,
   "metadata": {},
   "outputs": [],
   "source": [
    "import numpy as np\n",
    "import control"
   ]
  },
  {
   "cell_type": "code",
   "execution_count": 273,
   "metadata": {},
   "outputs": [],
   "source": [
    "i0 = 1\n",
    "L1 = 3.5\n",
    "L2 = 2\n",
    "Rc = 1\n",
    "Rw = 3\n",
    "alpha = 0.9\n",
    "a = 50\n",
    "\n",
    "const = 1/((1-alpha*alpha)*L1*L2)\n",
    "K = alpha * np.sqrt(L1*L2) \n",
    "A = const * np.array([\n",
    "    [-L2*Rc, alpha*np.sqrt(L1*L2)*Rw],\n",
    "    [alpha*np.sqrt(L1*L2)*Rc, -L1*Rw]\n",
    "])\n",
    "B = const * np.array([[L2], [-K]])"
   ]
  },
  {
   "cell_type": "code",
   "execution_count": 274,
   "metadata": {},
   "outputs": [
    {
     "name": "stdout",
     "output_type": "stream",
     "text": [
      "Kalman: [[  1.5037594  -11.87743796]\n",
      " [ -1.79035803  16.82667321]]\n",
      "Rango de kalman: 2\n"
     ]
    }
   ],
   "source": [
    "kalman = control.ctrb(A, B)\n",
    "rank_kalman = np.linalg.matrix_rank(kalman)\n",
    "print(\"Kalman:\", kalman)\n",
    "print(\"Rango de kalman:\", rank_kalman)"
   ]
  },
  {
   "cell_type": "markdown",
   "metadata": {},
   "source": [
    "> El sistema es controlable"
   ]
  },
  {
   "cell_type": "markdown",
   "metadata": {},
   "source": [
    "## Ejercicio 3"
   ]
  },
  {
   "cell_type": "code",
   "execution_count": 275,
   "metadata": {},
   "outputs": [],
   "source": [
    "u_cte = lambda t: 0.5\n",
    "sol_u = solve_ivp(lambda t, x: x @ A + B.T * u_cte(t), [0, 50], [-i0, 0], max_step=0.01)"
   ]
  },
  {
   "cell_type": "code",
   "execution_count": 276,
   "metadata": {},
   "outputs": [],
   "source": [
    "dx1 = (sol_u.y[0,:-1] - sol_u.y[0,1:])/(sol_u.t[:-1]-sol_u.t[1:])\n",
    "dx2 = (sol_u.y[1,:-1] - sol_u.y[1,1:])/(sol_u.t[:-1]-sol_u.t[1:])"
   ]
  },
  {
   "cell_type": "code",
   "execution_count": 277,
   "metadata": {},
   "outputs": [
    {
     "data": {
      "text/plain": [
       "Text(0.5, 0, '$t$')"
      ]
     },
     "execution_count": 277,
     "metadata": {},
     "output_type": "execute_result"
    },
    {
     "data": {
      "image/png": "[encoded data removed]",
      "text/plain": [
       "<Figure size 720x720 with 1 Axes>"
      ]
     },
     "metadata": {
      "needs_background": "light"
     },
     "output_type": "display_data"
    }
   ],
   "source": [
    "fig, ax = plt.subplots(figsize=(10, 10))\n",
    "ax.plot(sol_u.t[:-1], np.sqrt(dx1**2 + dx2 **2))\n",
    "ax.set_ylabel(r'$||\\dot{x}(t)||$', fontsize=12)\n",
    "ax.set_xlabel('$t$', fontsize=12)"
   ]
  },
  {
   "cell_type": "markdown",
   "metadata": {},
   "source": [
    "## Ejercicio 4"
   ]
  },
  {
   "cell_type": "markdown",
   "metadata": {},
   "source": [
    "El problema se puede escribir como\n",
    "\n",
    "$$\n",
    "min_{T, u} T\n",
    "$$\n",
    "\n",
    "sujeto a \n",
    "\n",
    "$$\n",
    "\\begin{align*}\n",
    "i' &= Ai + Bu\\\\\n",
    "i(T; i(0), u) &= (i_0, 0)^T\\\\\n",
    "i(0) &= (-i_0, 0)^T\\\\\n",
    "u &\\in [-a, a]\n",
    "\\end{align*}\n",
    "$$"
   ]
  },
  {
   "cell_type": "code",
   "execution_count": 26,
   "metadata": {},
   "outputs": [],
   "source": [
    "from scipy.integrate import solve_ivp\n",
    "import matplotlib.pyplot as plt"
   ]
  },
  {
   "cell_type": "markdown",
   "metadata": {},
   "source": [
    "## Ejercicio 5"
   ]
  },
  {
   "cell_type": "code",
   "execution_count": 190,
   "metadata": {},
   "outputs": [],
   "source": [
    "N=100"
   ]
  },
  {
   "cell_type": "code",
   "execution_count": 278,
   "metadata": {},
   "outputs": [],
   "source": [
    "def g(x):\n",
    "    tf, u = x[0], x[1:]\n",
    "    I0 = np.array([[-i0], [0]])\n",
    "#     print(I0.shape)\n",
    "    I = I0\n",
    "    dt = tf/N\n",
    "    for it in range(N):\n",
    "        I = I + dt * (A @ I + u[it] * B)\n",
    "    return I[0,0], I[1, 0]"
   ]
  },
  {
   "cell_type": "code",
   "execution_count": 279,
   "metadata": {},
   "outputs": [],
   "source": [
    "def obj(x):\n",
    "    return x[0]"
   ]
  },
  {
   "cell_type": "code",
   "execution_count": 280,
   "metadata": {},
   "outputs": [],
   "source": [
    "from scipy.optimize import minimize, NonlinearConstraint, LinearConstraint"
   ]
  },
  {
   "cell_type": "code",
   "execution_count": 281,
   "metadata": {},
   "outputs": [
    {
     "data": {
      "text/plain": [
       "(-0.9985021024699596, -0.0017820536906994402)"
      ]
     },
     "execution_count": 281,
     "metadata": {},
     "output_type": "execute_result"
    }
   ],
   "source": [
    "x0 = np.array([0.001]+[0]*N)\n",
    "eps = 0.000001\n",
    "xf = np.array([i0, 0])\n",
    "g(x0)"
   ]
  },
  {
   "cell_type": "code",
   "execution_count": 282,
   "metadata": {},
   "outputs": [
    {
     "name": "stdout",
     "output_type": "stream",
     "text": [
      "Wall time: 50.4 s\n"
     ]
    },
    {
     "data": {
      "text/plain": [
       "     fun: 0.6465911912078925\n",
       "   maxcv: 3.0844247658341376e-05\n",
       " message: 'Maximum number of function evaluations has been exceeded.'\n",
       "    nfev: 10000\n",
       "  status: 2\n",
       " success: False\n",
       "       x: array([  0.64659119,  14.05783356,  15.66717657,  14.46937688,\n",
       "        16.03232447,  12.09649756,  13.92083561,  12.94775797,\n",
       "        14.74299664,  14.81334356,  15.39837589,  14.50554925,\n",
       "        14.90118163,  15.02462307,  16.00140884,  14.7190706 ,\n",
       "        15.92434587,  16.27180716,  15.83674066,  15.61713236,\n",
       "        16.35574434,  16.06061909,  15.78071246,  16.37040428,\n",
       "        15.1178658 ,  16.83500072,  16.69727951,  15.98073632,\n",
       "        15.51134126,  16.9681576 ,  15.93857652,  16.38523147,\n",
       "        17.42117062,  16.98818266,  16.17135799,  16.42296453,\n",
       "        16.79352558,  17.38882038,  17.43350303,  18.17371702,\n",
       "        16.73632205,  17.05554193,  16.18566856,  17.58451473,\n",
       "        16.33929477,  17.24518651,  16.80450758,  17.45733315,\n",
       "        17.33327845,  18.34135094,  17.07264881,  15.70382064,\n",
       "        18.02287599,  17.72399075,  17.52242241,  17.79882261,\n",
       "        16.35564008,  17.08554979,  18.22681447,  17.33216948,\n",
       "        17.38550256,  16.6269573 ,  17.74592068,  17.4767959 ,\n",
       "        17.2788219 ,  17.5809897 ,  16.34809425,  16.44432758,\n",
       "        16.17750546,  17.23463872,  15.85907797,  16.19542111,\n",
       "        16.70761839,  16.20122958,  16.45896689,  15.39223776,\n",
       "        15.18960843,  14.10280018,  14.89510694,  14.82160029,\n",
       "        13.39512164,  12.60037261,  13.06604412,  11.68564976,\n",
       "        11.47281342,  10.11989693,   8.87927275,   8.26086013,\n",
       "         6.43674789,   6.43466381,   3.69352164,   3.41250627,\n",
       "        -0.05728966,  -2.59716827,  -4.12743638,  -6.6302648 ,\n",
       "       -10.74776898, -13.33513615, -16.75123056, -22.65155528,\n",
       "       -36.46391884])"
      ]
     },
     "execution_count": 282,
     "metadata": {},
     "output_type": "execute_result"
    }
   ],
   "source": [
    "%%time\n",
    "sol_N = minimize(\n",
    "    obj,\n",
    "    x0 = x0,\n",
    "    method=\"COBYLA\",\n",
    "    constraints=[\n",
    "        NonlinearConstraint(g, xf-eps, xf+eps), \n",
    "        LinearConstraint(np.eye(N+1), \n",
    "                         lb=np.array([0]+[-a]*N), \n",
    "                         ub=np.array([np.inf]+[a]*N)\n",
    "                        )],\n",
    "    options = {\"maxiter\": 10000}\n",
    ")\n",
    "sol_N"
   ]
  },
  {
   "cell_type": "code",
   "execution_count": 283,
   "metadata": {},
   "outputs": [
    {
     "data": {
      "text/plain": [
       "(1.000008439975021, -3.1844247658341374e-05)"
      ]
     },
     "execution_count": 283,
     "metadata": {},
     "output_type": "execute_result"
    }
   ],
   "source": [
    "u = sol_N.x\n",
    "g(u)"
   ]
  },
  {
   "cell_type": "markdown",
   "metadata": {},
   "source": [
    "La solución obtenida satisface que llega cerca de la posicion final deseada, sin embargo el control asociado no es extremal. Esto puede deberse a la mala elección del punto inicial (compatibilidad de tf0 y u0) y los parametros elegidos (N y eps)"
   ]
  },
  {
   "cell_type": "markdown",
   "metadata": {},
   "source": [
    "##  Ejercicio 6"
   ]
  },
  {
   "cell_type": "code",
   "execution_count": 284,
   "metadata": {},
   "outputs": [
    {
     "data": {
      "text/plain": [
       "(-0.894204634121192, -0.11597893177180023)"
      ]
     },
     "execution_count": 284,
     "metadata": {},
     "output_type": "execute_result"
    }
   ],
   "source": [
    "x0 = np.array([0.1]+[0]*N)\n",
    "eps = 0.000001\n",
    "xf = np.array([i0, 0])\n",
    "g(x0)"
   ]
  },
  {
   "cell_type": "code",
   "execution_count": 285,
   "metadata": {},
   "outputs": [
    {
     "name": "stdout",
     "output_type": "stream",
     "text": [
      "Wall time: 51.6 s\n"
     ]
    },
    {
     "data": {
      "text/plain": [
       "     fun: 0.5933564109285158\n",
       "   maxcv: 3.2776615038338956e-05\n",
       " message: 'Maximum number of function evaluations has been exceeded.'\n",
       "    nfev: 10000\n",
       "  status: 2\n",
       " success: False\n",
       "       x: array([  0.59335641,  14.24304437,  13.92315386,  16.24278127,\n",
       "        15.60637336,  15.94684118,  15.63284548,  15.9933171 ,\n",
       "        16.28950783,  16.52098705,  17.8102884 ,  17.8376135 ,\n",
       "        17.85824801,  16.47734768,  17.87853449,  17.82640625,\n",
       "        17.0102033 ,  16.85671457,  17.30933377,  18.66727689,\n",
       "        17.43576015,  18.36115545,  18.32044635,  18.65533479,\n",
       "        17.81388902,  18.68259407,  18.23702446,  17.91020453,\n",
       "        17.43326581,  18.13966547,  17.35257795,  17.57799026,\n",
       "        18.92181589,  18.26414003,  18.7864322 ,  18.45257878,\n",
       "        19.19665599,  19.31798263,  19.09306152,  17.77214994,\n",
       "        18.61607093,  17.84493805,  18.38461318,  19.22296295,\n",
       "        19.42859858,  19.95444858,  19.69801268,  19.49938905,\n",
       "        19.09574891,  19.3271273 ,  19.07523626,  20.70322789,\n",
       "        20.95850726,  19.23459404,  18.79936615,  19.28138896,\n",
       "        19.95592296,  19.63936167,  19.48129665,  20.24077904,\n",
       "        19.34024783,  19.04098363,  18.42410609,  18.80664042,\n",
       "        19.9108309 ,  18.69346941,  18.88296176,  20.30657743,\n",
       "        18.79119971,  17.98545079,  18.79704911,  18.56632195,\n",
       "        18.34245978,  17.9835333 ,  17.58540998,  16.13428997,\n",
       "        17.35851795,  15.68207321,  15.55995046,  14.52067748,\n",
       "        13.9101373 ,  13.62264736,  12.07099242,  11.79357435,\n",
       "        11.01398648,  10.18615606,   9.41079532,   6.884417  ,\n",
       "         6.94824881,   4.38753387,   3.32100577,   1.71210422,\n",
       "        -1.11643365,  -3.07814228,  -5.08221104,  -7.96047983,\n",
       "       -12.91573946, -18.78345058, -22.98010401, -29.81808954,\n",
       "       -39.62543062])"
      ]
     },
     "execution_count": 285,
     "metadata": {},
     "output_type": "execute_result"
    }
   ],
   "source": [
    "%%time\n",
    "sol_N = minimize(\n",
    "    obj,\n",
    "    x0 = x0,\n",
    "    method=\"COBYLA\",\n",
    "    constraints=[\n",
    "        NonlinearConstraint(g, xf-eps, xf+eps), \n",
    "        LinearConstraint(np.eye(N+1), \n",
    "                         lb=np.array([0]+[-a]*N), \n",
    "                         ub=np.array([np.inf]+[a]*N)\n",
    "                        )],\n",
    "    options = {\"maxiter\": 10000}\n",
    ")\n",
    "sol_N"
   ]
  },
  {
   "cell_type": "code",
   "execution_count": 286,
   "metadata": {},
   "outputs": [
    {
     "data": {
      "text/plain": [
       "(1.0000102138106983, -3.377661503833895e-05)"
      ]
     },
     "execution_count": 286,
     "metadata": {},
     "output_type": "execute_result"
    }
   ],
   "source": [
    "u = sol_N.x\n",
    "g(u)"
   ]
  },
  {
   "cell_type": "markdown",
   "metadata": {},
   "source": [
    "# Parte B"
   ]
  },
  {
   "cell_type": "markdown",
   "metadata": {},
   "source": [
    "## Ejercicio 7"
   ]
  },
  {
   "cell_type": "code",
   "execution_count": 219,
   "metadata": {},
   "outputs": [],
   "source": [
    "from scipy.optimize import root"
   ]
  },
  {
   "cell_type": "code",
   "execution_count": 287,
   "metadata": {},
   "outputs": [],
   "source": [
    "def F(x):\n",
    "    tf, h = x[0], x[1]\n",
    "    p = solve_ivp(lambda t, p: -A.T @ p, t_span=[0, tf], y0=[-1, h], max_step=0.001, dense_output=True)  \n",
    "    u = lambda t: a * np.sign(p.sol(t).T @ B)[0]\n",
    "    x = solve_ivp(lambda t, x: x @ A + u(t)*B.T, t_span=[0, tf], y0=[-i0, 0], max_step=0.001)\n",
    "    return x.y[0,-1]-i0, x.y[1,-1]"
   ]
  },
  {
   "cell_type": "code",
   "execution_count": null,
   "metadata": {},
   "outputs": [],
   "source": [
    "%%time\n",
    "R = root(F, x0=(5,-1), method=\"krylov\")\n",
    "R"
   ]
  },
  {
   "cell_type": "code",
   "execution_count": null,
   "metadata": {},
   "outputs": [],
   "source": [
    "F(R.x)"
   ]
  }
 ],
 "metadata": {
  "kernelspec": {
   "display_name": "Python 3",
   "language": "python",
   "name": "python3"
  },
  "language_info": {
   "codemirror_mode": {
    "name": "ipython",
    "version": 3
   },
   "file_extension": ".py",
   "mimetype": "text/x-python",
   "name": "python",
   "nbconvert_exporter": "python",
   "pygments_lexer": "ipython3",
   "version": "3.8.12"
  }
 },
 "nbformat": 4,
 "nbformat_minor": 4
}
