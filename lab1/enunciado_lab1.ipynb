{
 "cells": [
  {
   "cell_type": "markdown",
   "id": "28e2557b",
   "metadata": {},
   "source": [
    "# Laboratorio #1"
   ]
  },
  {
   "cell_type": "markdown",
   "id": "fd989f62",
   "metadata": {},
   "source": [
    "**Autor.** Felipe Urrutia Vargas"
   ]
  },
  {
   "cell_type": "markdown",
   "id": "d526261d",
   "metadata": {},
   "source": [
    "## Parte A\n",
    "Uso de $\\texttt{Python}$"
   ]
  },
  {
   "cell_type": "markdown",
   "id": "89ed3a49",
   "metadata": {},
   "source": [
    "### Ejercicio 1"
   ]
  },
  {
   "cell_type": "markdown",
   "id": "2a8c0799",
   "metadata": {},
   "source": [
    "*Ecuaciones diferenciales ordinarias*. Dado el sistema de ecuaciones diferenciales no lineal\n",
    "\\begin{cases}\n",
    "\\dot{x} = 2x − xy, \\\\\n",
    "\\dot{y}= −y + cos(y),\n",
    "\\end{cases}\n",
    "con condiciones iniciales $x_0 = 1$ e $y_0 = 5$."
   ]
  },
  {
   "cell_type": "markdown",
   "id": "4daa5945",
   "metadata": {},
   "source": [
    "#### a)\n",
    "Encuentre la solución general del sistema sin considerar condiciones iniciales en $\\texttt{Python}$ (use $\\texttt{dsolve}$\n",
    "de $\\texttt{sympy}$)"
   ]
  },
  {
   "cell_type": "code",
   "execution_count": 1,
   "id": "0aa588db",
   "metadata": {},
   "outputs": [],
   "source": [
    "from sympy import *"
   ]
  },
  {
   "cell_type": "code",
   "execution_count": 2,
   "id": "2d0f7eae",
   "metadata": {},
   "outputs": [
    {
     "name": "stdout",
     "output_type": "stream",
     "text": [
      "Wall time: 1.92 s\n"
     ]
    },
    {
     "data": {
      "text/plain": [
       "[Eq(x(t), exp(-C1 + exp(-C2 - t) + 2)),\n",
       " Eq(y(t), C1 + log(exp(-C1 + exp(-C2 - t) + 2)))]"
      ]
     },
     "execution_count": 2,
     "metadata": {},
     "output_type": "execute_result"
    }
   ],
   "source": [
    "%%time\n",
    "t = symbols(\"t\")\n",
    "x = Function(\"x\")\n",
    "y = Function(\"y\")\n",
    "\n",
    "eq = [\n",
    "    Eq(x(t).diff(t), 2*x(t) - x(t)*y(t)), \n",
    "    Eq(y(t).diff(t), -y(t) + cos(y(t)))\n",
    "]\n",
    "sol = dsolve(eq, funcs=[x(t), y(t)], t=t)\n",
    "sol"
   ]
  },
  {
   "cell_type": "markdown",
   "id": "6c790775",
   "metadata": {},
   "source": [
    "#### b)\n",
    "Resuelva el sistema de forma numérica en el intervalo de tiempo $[0, 5]$ en $\\texttt{Python}$ mediante $\\texttt{solve_ivp}$ de $\\texttt{scipy}$. Grafique las soluciones."
   ]
  },
  {
   "cell_type": "code",
   "execution_count": 3,
   "id": "b20d1df7",
   "metadata": {},
   "outputs": [],
   "source": [
    "import numpy as np\n",
    "from scipy.integrate import solve_ivp"
   ]
  },
  {
   "cell_type": "code",
   "execution_count": 4,
   "id": "2dd0f815",
   "metadata": {},
   "outputs": [],
   "source": [
    "def OED_system(t, state):\n",
    "    x, y = state\n",
    "    dx = 2*x - y*x\n",
    "    dy = -y+np.cos(y)\n",
    "    return [dx, dy]"
   ]
  },
  {
   "cell_type": "code",
   "execution_count": 5,
   "id": "ffba8c86",
   "metadata": {},
   "outputs": [
    {
     "name": "stdout",
     "output_type": "stream",
     "text": [
      "Wall time: 1.43 ms\n"
     ]
    }
   ],
   "source": [
    "%%time\n",
    "icv = [1, 5]\n",
    "t_span = (0.0, 5.0)\n",
    "t = np.arange(0.0, 5.0, 0.01)\n",
    "sol_ivp = solve_ivp(OED_system, t_span, icv)"
   ]
  },
  {
   "cell_type": "code",
   "execution_count": 6,
   "id": "234b92ad",
   "metadata": {},
   "outputs": [],
   "source": [
    "import matplotlib.pyplot as plt"
   ]
  },
  {
   "cell_type": "code",
   "execution_count": 7,
   "id": "09fe9980",
   "metadata": {},
   "outputs": [
    {
     "data": {
      "image/png": "[encoded data removed]",
      "text/plain": [
       "<Figure size 432x288 with 1 Axes>"
      ]
     },
     "metadata": {
      "needs_background": "light"
     },
     "output_type": "display_data"
    }
   ],
   "source": [
    "fig = plt.figure()\n",
    "ax = fig.add_subplot(1, 1, 1, projection='3d')\n",
    "ax.plot(sol_ivp.y[0, :],\n",
    "        sol_ivp.y[1, :])\n",
    "ax.set_title(\"solve_ivp\")\n",
    "plt.show()"
   ]
  },
  {
   "cell_type": "markdown",
   "id": "90d6d6e5",
   "metadata": {},
   "source": [
    "#### c)\n",
    "Utilice el applet $\\texttt{pyplane}$ (disponible en https://github.com/TUD-RST/pyplane) para dibujar los diagramas de fase del sistema para distintas condiciones iniciales. En particular muestre el mismo punto inicial utilizado antes."
   ]
  },
  {
   "cell_type": "code",
   "execution_count": null,
   "id": "9a5cd3dd",
   "metadata": {},
   "outputs": [],
   "source": [
    "import run_pyplane"
   ]
  },
  {
   "cell_type": "markdown",
   "id": "b8bc5e24",
   "metadata": {},
   "source": [
    "$(x_0, y_0) = (1, 5)$\n",
    "<img src=\"figures/e1_c__x_1_y_5_pp.png\" />"
   ]
  },
  {
   "cell_type": "markdown",
   "id": "3f2fb8cc",
   "metadata": {},
   "source": [
    "$(x_0, y_0) = (-1, 5)$\n",
    "<img src=\"figures/e1_c__x_-1_y_5_pp.png\" />"
   ]
  },
  {
   "cell_type": "markdown",
   "id": "7ac41b8e",
   "metadata": {},
   "source": [
    "$(x_0, y_0) = (1, 0.8)$\n",
    "<img src=\"figures/e1_c__x_1_y_08_pp.png\" />"
   ]
  },
  {
   "cell_type": "markdown",
   "id": "e9d38949",
   "metadata": {},
   "source": [
    "$(x_0, y_0) = (5, 3)$\n",
    "<img src=\"figures/e1_c__x_5_y_3_pp.png\" />"
   ]
  },
  {
   "cell_type": "markdown",
   "id": "b69ec873",
   "metadata": {},
   "source": [
    "### Ejercicio 2"
   ]
  },
  {
   "cell_type": "markdown",
   "id": "87cd2a09",
   "metadata": {},
   "source": [
    "Considere el sistema de control en $\\mathbb{R}^2$\n",
    "$$\n",
    "\\dot{x}(t) = Ax(t) + Bu(t) \\quad \\text{con} \\quad A= \\begin{bmatrix} 2 & 2 \\\\ -5 & 3\\end{bmatrix}, \\quad B=\\begin{bmatrix} 5 \\\\ 1\\end{bmatrix}\n",
    "$$\n",
    "con condiciones indiciales $x_0= (0,0)'$. Resuelva el sistema de forma numerica en el intervalo de tiempo $[0,10]$ en $\\texttt{Python}$ mediante $\\texttt{solver-ivp}$ para los siguientes controles de lazo abierto (*open loop*):\n",
    "$$\n",
    "u(t) = 0.2; \\quad u(t) = e^t; u(t) = e^{-t}cos(t).\n",
    "$$\n",
    "Grafique las soluciones."
   ]
  },
  {
   "cell_type": "code",
   "execution_count": 8,
   "id": "04d8bb27",
   "metadata": {},
   "outputs": [],
   "source": [
    "def control_system(t, x, u, A, B):\n",
    "#     print(t, x, u, A, B)\n",
    "    dx = A @ x + B * u(t)\n",
    "#     print(dx)\n",
    "    return dx"
   ]
  },
  {
   "cell_type": "code",
   "execution_count": 9,
   "id": "96ed63c1",
   "metadata": {},
   "outputs": [],
   "source": [
    "A = np.array([\n",
    "    [2, 2], \n",
    "    [-5, 3]\n",
    "])\n",
    "B = np.array([\n",
    "    5,\n",
    "    1\n",
    "])\n",
    "\n",
    "def u1(t):\n",
    "    return 0.2\n",
    "\n",
    "def u2(t):\n",
    "    return np.exp(t)\n",
    "\n",
    "def u3(t):\n",
    "    return np.exp(-t)*np.cos(t)\n",
    "\n",
    "icv = np.array([0, 0])\n",
    "t_span = (0.0, 10.0)\n",
    "t = np.arange(t_span[0], t_span[1], 0.01)"
   ]
  },
  {
   "cell_type": "code",
   "execution_count": 10,
   "id": "26bd72d1",
   "metadata": {},
   "outputs": [
    {
     "name": "stdout",
     "output_type": "stream",
     "text": [
      "Wall time: 6.01 ms\n"
     ]
    }
   ],
   "source": [
    "%%time\n",
    "sol_ivp1 = solve_ivp(control_system, t_span, icv, args=[u1, A, B])"
   ]
  },
  {
   "cell_type": "code",
   "execution_count": 11,
   "id": "3cac38cd",
   "metadata": {},
   "outputs": [
    {
     "name": "stdout",
     "output_type": "stream",
     "text": [
      "Wall time: 6 ms\n"
     ]
    }
   ],
   "source": [
    "%%time\n",
    "sol_ivp2 = solve_ivp(control_system, t_span, icv, args=[u2, A, B])"
   ]
  },
  {
   "cell_type": "code",
   "execution_count": 12,
   "id": "36b1cae9",
   "metadata": {},
   "outputs": [
    {
     "name": "stdout",
     "output_type": "stream",
     "text": [
      "Wall time: 7.01 ms\n"
     ]
    }
   ],
   "source": [
    "%%time\n",
    "sol_ivp3 = solve_ivp(control_system, t_span, icv, args=[u3, A, B])"
   ]
  },
  {
   "cell_type": "code",
   "execution_count": 13,
   "id": "c6ed60e5",
   "metadata": {},
   "outputs": [],
   "source": [
    "def plot_sol(sol, i=1):\n",
    "    fig = plt.figure()\n",
    "    ax = fig.add_subplot(1, 1, 1, projection='3d')\n",
    "    ax.plot(sol.y[0, :],\n",
    "            sol.y[1, :])\n",
    "    ax.set_title(f\"solve_ivp: u{i}\")\n",
    "    plt.show()"
   ]
  },
  {
   "cell_type": "code",
   "execution_count": 14,
   "id": "a81b944e",
   "metadata": {},
   "outputs": [
    {
     "data": {
      "image/png": "[encoded data removed]",
      "text/plain": [
       "<Figure size 432x288 with 1 Axes>"
      ]
     },
     "metadata": {
      "needs_background": "light"
     },
     "output_type": "display_data"
    }
   ],
   "source": [
    "plot_sol(sol_ivp1, i=1)"
   ]
  },
  {
   "cell_type": "code",
   "execution_count": 15,
   "id": "57928aa6",
   "metadata": {},
   "outputs": [
    {
     "data": {
      "image/png": "[encoded data removed]",
      "text/plain": [
       "<Figure size 432x288 with 1 Axes>"
      ]
     },
     "metadata": {
      "needs_background": "light"
     },
     "output_type": "display_data"
    }
   ],
   "source": [
    "plot_sol(sol_ivp2, i=2)"
   ]
  },
  {
   "cell_type": "code",
   "execution_count": 16,
   "id": "5b47fef7",
   "metadata": {},
   "outputs": [
    {
     "data": {
      "image/png": "[encoded data removed]",
      "text/plain": [
       "<Figure size 432x288 with 1 Axes>"
      ]
     },
     "metadata": {
      "needs_background": "light"
     },
     "output_type": "display_data"
    }
   ],
   "source": [
    "plot_sol(sol_ivp3, i=3)"
   ]
  },
  {
   "cell_type": "markdown",
   "id": "6c5fa44e",
   "metadata": {},
   "source": [
    "### Ejercicio 3"
   ]
  },
  {
   "cell_type": "markdown",
   "id": "04b01fe2",
   "metadata": {},
   "source": [
    "*Optimizacion lineal*. Resuelva con $\\texttt{Python}$ el siguiente problema de programacion lineal (PL). Utilice para ello $\\texttt{linprog}$ de $\\texttt{scipy}$ y explore los distintos metodos disponibles.\n",
    "\\begin{cases}\n",
    "\\min &f(x, y, z) = -8x-y-3z\\\\\n",
    "\\text{s.a.} & -x+y+z \\leq 13 \\\\\n",
    "& 3x+5y+5z \\leq 10 \\\\\n",
    "& 9x-5y\\leq 20 \\\\\n",
    "& x, y, z \\geq 0\n",
    "\\end{cases}"
   ]
  },
  {
   "cell_type": "code",
   "execution_count": 17,
   "id": "f876d509",
   "metadata": {},
   "outputs": [],
   "source": [
    "from scipy.optimize import linprog"
   ]
  },
  {
   "cell_type": "code",
   "execution_count": 18,
   "id": "531a156b",
   "metadata": {},
   "outputs": [],
   "source": [
    "c = np.array([-8, -1, -3])\n",
    "A = np.array([\n",
    "    [-1, 1, 1], \n",
    "    [3, 5, 5],\n",
    "    [9, -5, 0]\n",
    "])\n",
    "b = np.array([13, 10, 20])\n",
    "E = None\n",
    "e = None\n",
    "bnd = [(0, None) for _ in range(c.shape[0])]"
   ]
  },
  {
   "cell_type": "code",
   "execution_count": 19,
   "id": "d6e0f972",
   "metadata": {},
   "outputs": [],
   "source": [
    "def solve_linprog(A, b, E, e, bnd, method=\"simplex\"):\n",
    "    opt = linprog(c=c, A_ub=A, b_ub=b,\n",
    "                      A_eq=E, b_eq=e, bounds=bnd,\n",
    "                      method=method)\n",
    "    sol = opt.x\n",
    "    return sol"
   ]
  },
  {
   "cell_type": "code",
   "execution_count": 20,
   "id": "e6b686a8",
   "metadata": {},
   "outputs": [
    {
     "name": "stdout",
     "output_type": "stream",
     "text": [
      "1.15 ms ± 4.48 µs per loop (mean ± std. dev. of 7 runs, 1000 loops each)\n"
     ]
    }
   ],
   "source": [
    "%%timeit\n",
    "solve_linprog(A, b, E, e, bnd, method = \"simplex\")"
   ]
  },
  {
   "cell_type": "code",
   "execution_count": 21,
   "id": "89e915de",
   "metadata": {},
   "outputs": [
    {
     "name": "stdout",
     "output_type": "stream",
     "text": [
      "819 µs ± 4.36 µs per loop (mean ± std. dev. of 7 runs, 1000 loops each)\n"
     ]
    }
   ],
   "source": [
    "%%timeit\n",
    "solve_linprog(A, b, E, e, bnd, method = \"revised simplex\")"
   ]
  },
  {
   "cell_type": "code",
   "execution_count": 22,
   "id": "f0f26d89",
   "metadata": {},
   "outputs": [
    {
     "name": "stdout",
     "output_type": "stream",
     "text": [
      "1.97 ms ± 10.2 µs per loop (mean ± std. dev. of 7 runs, 1000 loops each)\n"
     ]
    }
   ],
   "source": [
    "%%timeit\n",
    "solve_linprog(A, b, E, e, bnd, method = \"interior-point\")"
   ]
  },
  {
   "cell_type": "code",
   "execution_count": 23,
   "id": "375f2ee8",
   "metadata": {},
   "outputs": [
    {
     "name": "stdout",
     "output_type": "stream",
     "text": [
      "697 µs ± 2.05 µs per loop (mean ± std. dev. of 7 runs, 1000 loops each)\n"
     ]
    }
   ],
   "source": [
    "%%timeit\n",
    "solve_linprog(A, b, E, e, bnd, method = \"highs-ipm\")"
   ]
  },
  {
   "cell_type": "code",
   "execution_count": 24,
   "id": "8106d740",
   "metadata": {},
   "outputs": [
    {
     "name": "stdout",
     "output_type": "stream",
     "text": [
      "408 µs ± 1.27 µs per loop (mean ± std. dev. of 7 runs, 1000 loops each)\n"
     ]
    }
   ],
   "source": [
    "%%timeit\n",
    "solve_linprog(A, b, E, e, bnd, method = \"highs-ds\")"
   ]
  },
  {
   "cell_type": "code",
   "execution_count": 25,
   "id": "1a550ec4",
   "metadata": {},
   "outputs": [
    {
     "name": "stdout",
     "output_type": "stream",
     "text": [
      "408 µs ± 1.23 µs per loop (mean ± std. dev. of 7 runs, 1000 loops each)\n"
     ]
    }
   ],
   "source": [
    "%%timeit\n",
    "solve_linprog(A, b, E, e, bnd, method = \"highs\")"
   ]
  },
  {
   "cell_type": "code",
   "execution_count": 26,
   "id": "a7fb36c7",
   "metadata": {},
   "outputs": [
    {
     "data": {
      "text/plain": [
       "array([2.5, 0.5, 0. ])"
      ]
     },
     "execution_count": 26,
     "metadata": {},
     "output_type": "execute_result"
    }
   ],
   "source": [
    "sol = solve_linprog(A, b, E, e, bnd, method = \"highs\")\n",
    "sol"
   ]
  },
  {
   "cell_type": "markdown",
   "id": "22df7c68",
   "metadata": {},
   "source": [
    "### Ejercicio 4"
   ]
  },
  {
   "cell_type": "markdown",
   "id": "5829e8cc",
   "metadata": {},
   "source": [
    "*Optimizacion no lineal*. Un paquete postal (en forma de paralelepípedo rectangular) debe\n",
    "satisfacer que su altura más el perímetro de su base no puede exceder los 53 cm. Se pretende diseñar un paquete tal que cumpla con esta restricción y que además posea un volumen máximo. Escriba un modelo matemático para este problema y resuélvalo utilizando el comando minimize de scipy."
   ]
  },
  {
   "cell_type": "markdown",
   "id": "fcd2d89c",
   "metadata": {},
   "source": [
    "**Figura 1.e4.** *Paralelepipedo P(h, a, b) de altura h y lados de la base (a, b).*\n",
    "<img src=\"figures/e4_m.png\" />\n",
    "\n",
    "Sea $P(h, a, b)$ un paralelepipedo como en la figura, entonces su volumen $V(h, a, b)$ es igual a $abh$. La suma del perimetro de la base más la altura es $2 (a + b) + h$. Con esto, el problema de optimizacion para encontrar $(h, a, b)$ optimos es equivalente a resolver el siguiente problema no lineal:\n",
    "\n",
    "\\begin{cases}\n",
    "\\min & - V(h, a, b) = - abh \\\\\n",
    "\\text{s.a.} & h + 2(a + b) \\leq 53\\\\\n",
    "& h, a, b \\geq 0\n",
    "\\end{cases}"
   ]
  },
  {
   "cell_type": "code",
   "execution_count": 27,
   "id": "32a72fe0",
   "metadata": {},
   "outputs": [],
   "source": [
    "from scipy.optimize import minimize\n",
    "from scipy.optimize import Bounds\n",
    "from scipy.optimize import LinearConstraint"
   ]
  },
  {
   "cell_type": "code",
   "execution_count": 28,
   "id": "eaa323a4",
   "metadata": {},
   "outputs": [],
   "source": [
    "fun = lambda x: -np.prod(x)\n",
    "x0 = np.ones(3)\n",
    "linear_constraint = LinearConstraint([[1, 2, 2]], [0], [53])\n",
    "bounds = Bounds(np.zeros(3), np.inf*np.ones(3))"
   ]
  },
  {
   "cell_type": "code",
   "execution_count": 29,
   "id": "52d8e219",
   "metadata": {},
   "outputs": [
    {
     "name": "stdout",
     "output_type": "stream",
     "text": [
      "Optimization terminated successfully\n",
      "Wall time: 4 ms\n"
     ]
    },
    {
     "data": {
      "text/plain": [
       "array([17.66664669,  8.83333081,  8.83334585])"
      ]
     },
     "execution_count": 29,
     "metadata": {},
     "output_type": "execute_result"
    }
   ],
   "source": [
    "%%time\n",
    "res = minimize(fun, x0, method='SLSQP', bounds=bounds, constraints=[linear_constraint])\n",
    "print(res.message)\n",
    "sol = res.x\n",
    "sol"
   ]
  },
  {
   "cell_type": "markdown",
   "id": "39e2a8bc",
   "metadata": {},
   "source": [
    "### Ejercicio 5"
   ]
  },
  {
   "cell_type": "markdown",
   "id": "14fe1494",
   "metadata": {},
   "source": [
    "Encuentre los puntos de intersección $(x, y)$ de las siguientes cónicas:\n",
    "\n",
    "* $2x^2 + y = 1$,\n",
    "* $(x − 1/2)^2 − 2(y − 1/4)^2 = 1$.\n",
    "\n",
    "Para esto, utilice el comando $\\texttt{fsolve}$ de $\\texttt{scipy}$ y grafique."
   ]
  },
  {
   "cell_type": "code",
   "execution_count": 30,
   "id": "975b390a",
   "metadata": {},
   "outputs": [],
   "source": [
    "from scipy.optimize import fsolve"
   ]
  },
  {
   "cell_type": "code",
   "execution_count": 31,
   "id": "e609fe1b",
   "metadata": {},
   "outputs": [
    {
     "name": "stdout",
     "output_type": "stream",
     "text": [
      "Root 1: [-0.53273178  0.4323937 ] [3.801403636316536e-13, 1.1888268147686176e-12]\n",
      "Root 2: [-0.82653389 -0.36631654] [-1.962319196024964e-12, 2.553379729874905e-11]\n"
     ]
    }
   ],
   "source": [
    "def func(x):\n",
    "    return [2*(x[0]**2) + x[1]-1,\n",
    "            (x[0]-0.5)**2-2*((x[1]-0.25)**2)-1\n",
    "           ]\n",
    "\n",
    "# Root 1\n",
    "root = fsolve(func, [0, 0])\n",
    "print(\"Root 1:\", root, func(root))\n",
    "\n",
    "# Root 2\n",
    "root = fsolve(func, [-1, 0])\n",
    "print(\"Root 2:\", root, func(root))"
   ]
  },
  {
   "cell_type": "code",
   "execution_count": 32,
   "id": "5a082a33",
   "metadata": {},
   "outputs": [],
   "source": [
    "from sympy import symbols, plot_implicit, Eq"
   ]
  },
  {
   "cell_type": "code",
   "execution_count": 33,
   "id": "f5927f73",
   "metadata": {},
   "outputs": [
    {
     "name": "stderr",
     "output_type": "stream",
     "text": [
      "C:\\Users\\felip\\anaconda3\\lib\\site-packages\\sympy\\core\\relational.py:495: SymPyDeprecationWarning: \n",
      "\n",
      "Eq(expr) with rhs default to 0 has been deprecated since SymPy 1.5.\n",
      "Use Eq(expr, 0) instead. See\n",
      "https://github.com/sympy/sympy/issues/16587 for more info.\n",
      "\n",
      "  SymPyDeprecationWarning(\n"
     ]
    },
    {
     "data": {
      "image/png": "[encoded data removed]",
      "text/plain": [
       "<Figure size 432x288 with 1 Axes>"
      ]
     },
     "metadata": {
      "needs_background": "light"
     },
     "output_type": "display_data"
    }
   ],
   "source": [
    "x, y = symbols('x y')\n",
    "plot1 = plot_implicit(Eq(2*(x**2) + y-1), line_color='steelblue', show=False)\n",
    "plot2 = plot_implicit(Eq((x-0.5)**2-2*((y-0.25)**2)-1), line_color='crimson', show=False)\n",
    "plot1.append(plot2[0])\n",
    "plot1.show()"
   ]
  },
  {
   "cell_type": "markdown",
   "id": "4caddf05",
   "metadata": {},
   "source": [
    "## Parte B\n",
    "Control Optimo: Uso de $\\texttt{BOCOP}$"
   ]
  },
  {
   "cell_type": "markdown",
   "id": "63b725a4",
   "metadata": {},
   "source": [
    "$\\texttt{BOCOP}$ es un programa open-source diseñado para resolver problemas de control óptimo tipo Mayer a tiempo final fijo o libre y con restricciones de control y estado. Para instalar el solver de control óptimo BOCOP ver el archivo “bocop.pdf”. Encontrará un manual más detallado en www.bocop.org. BOCOP puede resolver problemas de la forma siguiente\n",
    "\n",
    "$$\n",
    "(M) \\begin{cases}\n",
    "\\min_{u(\\cdot)} & J(t_0, y(t_0), t_f, y(t_f))  &(\\textit{Criterio})\\\\\n",
    "& \\dot{y}(t) = f(y(t), u(t)), \\forall t \\in [t_0, t_f]  &(\\textit{Dinamica})\\\\\n",
    "& \\Phi_l\\leq \\Phi(t_0, y(t_0), t_f, y(t_f)) \\leq \\Phi_u &(\\textit{Condicion de borde})\\\\\n",
    "& y_l \\leq y(t) \\leq y_u, u_l \\leq u(t) \\leq u_u \\forall t \\in [t_0, t_f] &(\\textit{Cotas})\\\\\n",
    "& g_l \\leq g(y(t), u(t)) \\leq g_u, \\forall t \\in [t_0, t_f] &(\\textit{Restricciones mixtas})\\\\\n",
    "\\end{cases}\n",
    "$$\n",
    "\n",
    "donde $y(\\cdot) \\in \\mathbb{R}^n$ es el estado del sistema y $u(\\cdot) \\in \\mathbb{R}^n$ el control. En particular, note que la función objetivo solo depende del tiempo inicial y el final y de los estados iniciales y finales."
   ]
  },
  {
   "cell_type": "markdown",
   "id": "ef068417",
   "metadata": {},
   "source": [
    "### Ejercicio 6"
   ]
  },
  {
   "cell_type": "markdown",
   "id": "4ac3b94e",
   "metadata": {},
   "source": [
    "Consideremos en este ejercicio el *problema de Jackson*, que modela las reacciones quimicas de tres componentes $A$, $B$, $C$, \n",
    "$$\n",
    "A \\leftrightarrow^1 B \\rightarrow^2 C\n",
    "$$\n",
    "Las variables de estado son a, b, c, representado las fracciones molares de $A$, $B$, $C$, y $k_1$, $k_2$, $k_3$ son las constantes de velocidad de las reacciones quimicas. Aqui el control $u(t) \\in [0,1]$ es la fraccion de catalizador que establece el equilibrio entre las reacciones 1 y 2. El objetivo es el de maximizar la produccion del componente $C$.\n",
    "\n",
    "El problema de control optimo es el siguiente:\n",
    "\n",
    "$$\n",
    "(G) \\begin{cases}\n",
    "\\max_{u(\\cdot)} & c(t_f) \\\\\n",
    "& \\dot{a}(t) = -u(t)(k_1 a(t) - k_2 b(t)), a(0) = 1,\\\\\n",
    "& \\dot{b}(t) = u(t)(k_1a(t)-k_2b(t))-(1-u(t))k_3b(t), b(0) = 0,\\\\\n",
    "& \\dot{c}(t) = (1-u(t))k_3b(t), c(0)=1,\\\\\n",
    "&u(t) \\in [0,1], \\forall t \\in [0,t_f]\\\\\n",
    "\\end{cases}\n",
    "$$\n",
    "\n",
    "este problema ya esta programado y es uno de los ejemplos que viene con $\\texttt{BOCOP}$, el cual se puede encontrar en la carpeta \"examples/jackson_basic\"."
   ]
  },
  {
   "cell_type": "markdown",
   "id": "df76a964",
   "metadata": {},
   "source": [
    "#### 1.\n",
    "Escriba este problema en la forma $(M)$ e indentifique las funciones $J$, $f$, $\\Phi$ y $g$ y las cotas $\\Phi_l$, $\\Phi_u$, $g_l$, $g_u$, $y_l$, $y_u$, $u_l$ y $u_u$."
   ]
  },
  {
   "cell_type": "code",
   "execution_count": null,
   "id": "f1dca75e",
   "metadata": {},
   "outputs": [],
   "source": []
  },
  {
   "cell_type": "markdown",
   "id": "ab61d1ec",
   "metadata": {},
   "source": [
    "#### 2.\n",
    "Haga las modificaciones necesarias para resolver el problema de obtener fracciones molares iguales\n",
    "a: $a(t_f)=0.7$, $0.9$, con $t_f \\in \\{5, 7, 10\\}$. Grafique la solución y el control óptimo."
   ]
  },
  {
   "cell_type": "code",
   "execution_count": null,
   "id": "22f22cc6",
   "metadata": {},
   "outputs": [],
   "source": []
  },
  {
   "cell_type": "markdown",
   "id": "766efc32",
   "metadata": {},
   "source": [
    "#### 3.\n",
    "Ahora estamos interesados en maximizar la producción de $C$ pero con cantidades molares, al final\n",
    "del tiempo para $A$ y $B$, por encima de $0.8$ y $0.05$ respectivamente, para cada uno de los $t_f$ del item anterior. Haga las modificaciones necesarias para resolver este nuevo problema. Grafique la solución y el control óptimo."
   ]
  },
  {
   "cell_type": "code",
   "execution_count": null,
   "id": "aa455fdd",
   "metadata": {},
   "outputs": [],
   "source": []
  },
  {
   "cell_type": "markdown",
   "id": "7a23f937",
   "metadata": {},
   "source": [
    "### Ejercicio 7"
   ]
  },
  {
   "cell_type": "markdown",
   "id": "5f5111c3",
   "metadata": {},
   "source": [
    "Considere el siguiente problema de control óptimo:\n",
    "\n",
    "$$\n",
    "\\min_{u(\\cdot)} \\int_{0}^{t_f} u(t)^2dt; \\quad y^{(3)}(t) = u(t); \\quad y(t)\\geq 0,\n",
    "$$\n",
    "con $t_f = 10$, $y(0)=1$, $\\dot{y}(0)=-2$, $\\ddot{y}(0) = 0$, $\\dot{y}(t_f) = 0$ y $\\ddot{y}(t_f) = 0$. Note que el criterio depende del control entonces se deve modificar el problema para resolver con $\\texttt{BOCOP}$.\n",
    "\n",
    "Se recomienda revisar una variantes de este problema que ya esta programado y es uno de los ejemplos que viene que con $\\texttt{BOCOP}$, el cual se puede encontrar en la carpeta \"examples/robbins\","
   ]
  },
  {
   "cell_type": "markdown",
   "id": "4ee3aa8f",
   "metadata": {},
   "source": [
    "#### 1.\n",
    "Primeramente indentifique el sistema que modela este problema y luego introduzca una nueva\n",
    "variable de estado $z$ tal que $z(t_f ) = \\int^{t_f}_0 u(t)^2 dt$. ¿Cuál es la dinámica y la condición inicial de $z$?"
   ]
  },
  {
   "cell_type": "code",
   "execution_count": null,
   "id": "b3fbce2a",
   "metadata": {},
   "outputs": [],
   "source": []
  },
  {
   "cell_type": "markdown",
   "id": "cf29d45e",
   "metadata": {},
   "source": [
    "#### 2.\n",
    "Usando esta variable adicional, escribe un problema de Mayer (M) que es equivalente al problema\n",
    "(B). Identifique las funciones $J$, $f$, $\\Phi$ y $g$."
   ]
  },
  {
   "cell_type": "code",
   "execution_count": null,
   "id": "7787a575",
   "metadata": {},
   "outputs": [],
   "source": []
  },
  {
   "cell_type": "markdown",
   "id": "bed7806e",
   "metadata": {},
   "source": [
    "#### 3.\n",
    "Resuelva este problema considerando $y(t) \\leq 1$, $5$ en cada instante de tiempo y $\\ddot{y}(t_f) = 3$, $5$, $7$. Grafique los resultados encontrados"
   ]
  },
  {
   "cell_type": "code",
   "execution_count": null,
   "id": "1a94b5eb",
   "metadata": {},
   "outputs": [],
   "source": []
  },
  {
   "cell_type": "markdown",
   "id": "43951cef",
   "metadata": {},
   "source": [
    "#### 4.\n",
    "Considere ahora que se quiere incluir en la función objetivo el termino $α · y$ con $α = 3$. Resuelva el problema para los mismos valores del item anterior."
   ]
  },
  {
   "cell_type": "code",
   "execution_count": null,
   "id": "2b1e9a1e",
   "metadata": {},
   "outputs": [],
   "source": []
  }
 ],
 "metadata": {
  "kernelspec": {
   "display_name": "Python 3 (ipykernel)",
   "language": "python",
   "name": "python3"
  },
  "language_info": {
   "codemirror_mode": {
    "name": "ipython",
    "version": 3
   },
   "file_extension": ".py",
   "mimetype": "text/x-python",
   "name": "python",
   "nbconvert_exporter": "python",
   "pygments_lexer": "ipython3",
   "version": "3.8.5"
  }
 },
 "nbformat": 4,
 "nbformat_minor": 5
}
