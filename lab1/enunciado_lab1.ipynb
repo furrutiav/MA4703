{
 "cells": [
  {
   "cell_type": "markdown",
   "id": "219c821a",
   "metadata": {},
   "source": [
    "# Laboratorio #1"
   ]
  },
  {
   "cell_type": "markdown",
   "id": "beaea734",
   "metadata": {},
   "source": [
    "**Autor.** Felipe Urrutia Vargas"
   ]
  },
  {
   "cell_type": "markdown",
   "id": "52546e23",
   "metadata": {},
   "source": [
    "## Parte A\n",
    "Uso de $\\texttt{Python}$"
   ]
  },
  {
   "cell_type": "markdown",
   "id": "0de614e2",
   "metadata": {},
   "source": [
    "### Ejercicio 1"
   ]
  },
  {
   "cell_type": "markdown",
   "id": "b1d3bef2",
   "metadata": {},
   "source": [
    "*Ecuaciones diferenciales ordinarias*. Dado el sistema de ecuaciones diferenciales no lineal\n",
    "\\begin{cases}\n",
    "\\dot{x} = 2x − xy, \\\\\n",
    "\\dot{y}= −y + cos(x),\n",
    "\\end{cases}\n",
    "con condiciones iniciales $x_0 = 1$ e $y_0 = 5$."
   ]
  },
  {
   "cell_type": "markdown",
   "id": "87af3553",
   "metadata": {},
   "source": [
    "#### a)\n",
    "Encuentre la solución general del sistema sin considerar condiciones iniciales en $\\texttt{Python}$ (use $\\texttt{dsolve}$\n",
    "de $\\texttt{sympy}$)"
   ]
  },
  {
   "cell_type": "code",
   "execution_count": null,
   "id": "108d0191",
   "metadata": {},
   "outputs": [],
   "source": []
  },
  {
   "cell_type": "markdown",
   "id": "f285e7c1",
   "metadata": {},
   "source": [
    "#### b)\n",
    "Resuelva el sistema de forma numérica en el intervalo de tiempo $[0, 5]$ en $\\texttt{Python}$ mediante $\\texttt{solve_ivp}$ de $\\texttt{scipy}$. Grafique las soluciones."
   ]
  },
  {
   "cell_type": "code",
   "execution_count": null,
   "id": "e394d9e5",
   "metadata": {},
   "outputs": [],
   "source": []
  },
  {
   "cell_type": "markdown",
   "id": "07261ee2",
   "metadata": {},
   "source": [
    "#### c)\n",
    "Utilice el applet $\\texttt{pyplane}$ (disponible en https://github.com/TUD-RST/pyplane) para dibujar los diagramas de fase del sistema para distintas condiciones iniciales. En particular muestre el mismo punto inicial utilizado antes."
   ]
  },
  {
   "cell_type": "code",
   "execution_count": null,
   "id": "23d4d155",
   "metadata": {},
   "outputs": [],
   "source": []
  },
  {
   "cell_type": "markdown",
   "id": "99b735c6",
   "metadata": {},
   "source": [
    "### Ejercicio 2"
   ]
  },
  {
   "cell_type": "markdown",
   "id": "88a69131",
   "metadata": {},
   "source": [
    "Considere el sistema de control en $\\mathbb{R}^2$\n",
    "$$\n",
    "\\dot{x}(t) = Ax(t) + Bu(t) \\quad \\text{con} \\quad A= \\begin{bmatrix} 2 & 2 \\\\ -5 & 3\\end{bmatrix}, \\quad B=\\begin{bmatrix} 5 \\\\ 1\\end{bmatrix}\n",
    "$$\n",
    "con condiciones indiciales $x_0= (0,0)'$. Resuelva el sistema de forma numerica en el intervalo de tiempo $[0,10]$ en $\\texttt{Python}$ mediante $\\texttt{solver-ivp}$ para los siguientes controles de lazo abierto (*open loop*):\n",
    "$$\n",
    "u(t) = 0.2; \\quad u(t) = e^t; u(t) = e^{-t}cos(t).\n",
    "$$\n",
    "Grafique las soluciones."
   ]
  },
  {
   "cell_type": "code",
   "execution_count": null,
   "id": "4c825dcb",
   "metadata": {},
   "outputs": [],
   "source": []
  },
  {
   "cell_type": "markdown",
   "id": "7319f05e",
   "metadata": {},
   "source": [
    "### Ejercicio 3"
   ]
  },
  {
   "cell_type": "markdown",
   "id": "99e57692",
   "metadata": {},
   "source": [
    "*Optimizacion lineal*. Resuelva con $\\texttt{Python}$ el siguiente problema de programacion lineal (PL). Utilice para ello $\\texttt{linprog}$ de $\\texttt{scipy}$ y explore los distintos metodos disponibles.\n",
    "\\begin{cases}\n",
    "\\min &f(x, y, z) = -8x-y-3z\\\\\n",
    "\\text{s.a.} & -x+y+z \\leq 13 \\\\\n",
    "& 3x+5y+5z \\leq 10 \\\\\n",
    "& 9x-5y\\leq 20 \\\\\n",
    "& x, y, z \\geq 0\n",
    "\\end{cases}"
   ]
  },
  {
   "cell_type": "code",
   "execution_count": null,
   "id": "b944aa8f",
   "metadata": {},
   "outputs": [],
   "source": []
  },
  {
   "cell_type": "markdown",
   "id": "8bf79eef",
   "metadata": {},
   "source": [
    "### Ejercicio 4"
   ]
  },
  {
   "cell_type": "markdown",
   "id": "71d83a49",
   "metadata": {},
   "source": [
    "*Optimizacion no lineal*. Un paquete postal (en forma de paralelepípedo rectangular) debe\n",
    "satisfacer que su altura más el perímetro de su base no puede exceder los 53 cm. Se pretende diseñar un paquete tal que cumpla con esta restricción y que además posea un volumen máximo. Escriba un modelo matemático para este problema y resuélvalo utilizando el comando minimize de scipy."
   ]
  },
  {
   "cell_type": "code",
   "execution_count": null,
   "id": "45878344",
   "metadata": {},
   "outputs": [],
   "source": []
  },
  {
   "cell_type": "markdown",
   "id": "e79cfd0d",
   "metadata": {},
   "source": [
    "### Ejercicio 5"
   ]
  },
  {
   "cell_type": "markdown",
   "id": "6f18ca76",
   "metadata": {},
   "source": [
    "Encuentre los puntos de intersección $(x, y)$ de las siguientes cónicas:\n",
    "\n",
    "* $2x^2 + y = 1$,\n",
    "* $(x − 1/2)^2 − 2(y − 1/4)^2 = 1$.\n",
    "\n",
    "Para esto, utilice el comando $\\texttt{fsolve}$ de $\\texttt{scipy}$ y grafique."
   ]
  },
  {
   "cell_type": "code",
   "execution_count": null,
   "id": "c3b0084c",
   "metadata": {},
   "outputs": [],
   "source": []
  },
  {
   "cell_type": "markdown",
   "id": "a34d8f80",
   "metadata": {},
   "source": [
    "## Parte B\n",
    "Control Optimo: Uso de $\\texttt{BOCOP}$"
   ]
  },
  {
   "cell_type": "markdown",
   "id": "aefbd574",
   "metadata": {},
   "source": [
    "$\\texttt{BOCOP}$ es un programa open-source diseñado para resolver problemas de control óptimo tipo Mayer a tiempo final fijo o libre y con restricciones de control y estado. Para instalar el solver de control óptimo BOCOP ver el archivo “bocop.pdf”. Encontrará un manual más detallado en www.bocop.org. BOCOP puede resolver problemas de la forma siguiente\n",
    "\n",
    "$$\n",
    "(M) \\begin{cases}\n",
    "\\min_{u(\\cdot)} & J(t_0, y(t_0), t_f, y(t_f))  &(\\textit{Criterio})\\\\\n",
    "& \\dot{y}(t) = f(y(t), u(t)), \\forall t \\in [t_0, t_f]  &(\\textit{Dinamica})\\\\\n",
    "& \\Phi_l\\leq \\Phi(t_0, y(t_0), t_f, y(t_f)) \\leq \\Phi_u &(\\textit{Condicion de borde})\\\\\n",
    "& y_l \\leq y(t) \\leq y_u, u_l \\leq u(t) \\leq u_u \\forall t \\in [t_0, t_f] &(\\textit{Cotas})\\\\\n",
    "& g_l \\leq g(y(t), u(t)) \\leq g_u, \\forall t \\in [t_0, t_f] &(\\textit{Restricciones mixtas})\\\\\n",
    "\\end{cases}\n",
    "$$\n",
    "\n",
    "donde $y(\\cdot) \\in \\mathbb{R}^n$ es el estado del sistema y $u(\\cdot) \\in \\mathbb{R}^n$ el control. En particular, note que la función objetivo solo depende del tiempo inicial y el final y de los estados iniciales y finales."
   ]
  },
  {
   "cell_type": "markdown",
   "id": "c3a941a4",
   "metadata": {},
   "source": [
    "### Ejercicio 6"
   ]
  },
  {
   "cell_type": "markdown",
   "id": "4652521e",
   "metadata": {},
   "source": [
    "Consideremos en este ejercicio el problema de Jackson, que modela las reacciones quimicas de tres componentes A, B, C, \n",
    "$$\n",
    "A \\leftrightarrow^1 B \\rightarrow^2 C\n",
    "$$\n",
    "Las variables de estado son a, b, c, representado las fracciones molares de A, B, C, y $k_1$, $k_2$, $k_3$ son las constantes de velocidad de las reacciones quimicas. Aqui el control $u(t) \\in [0,1]$ es la fraccion de catalizador que establece el equilibreeio entre las reacciones 1 y 2. El objetivo es el de maximizar la produccion del componente C.\n",
    "\n",
    "El problema de control optimo es el siguiente:\n",
    "\n",
    "$$\n",
    "(G) \\begin{cases}\n",
    "\\max_{u(\\cdot)} & c(t_f) \\\\\n",
    "& \\dot{a}(t) = -u(t)(k_1 a(t) - k_2 b(t)), a(0) = 1,\\\\\n",
    "& \\dot{b}(t) = u(t)(k_1a(t)-k_2b(t))-(1-u(t))k_3b(t), b(0) = 0,\\\\\n",
    "& \\dot{c}(t) = (1-u(t))k_3b(t), c(0)=1,\\\\\n",
    "&u(t) \\in [0,1], \\forall t \\in [0,t_f]\\\\\n",
    "\\end{cases}\n",
    "$$\n",
    "\n",
    "este problema ya esta programado y es uno de los ejemplos que viene con $\\texttt{BOCOP}$, el cual se puede encontrar en la carpeta \"examples/jackson_basic\"."
   ]
  },
  {
   "cell_type": "markdown",
   "id": "05ba557b",
   "metadata": {},
   "source": [
    "#### 1.\n",
    "Escriba este problema en la forma $(M)$ e indentifique las funciones $J$, $f$, $\\Phi$ y $g$ y las cotas $\\Phi_l$, $\\Phi_u$, $g_l$, $g_u$, $y_l$, $y_u$, $u_l$ y $u_u$."
   ]
  },
  {
   "cell_type": "code",
   "execution_count": null,
   "id": "99fbd9e5",
   "metadata": {},
   "outputs": [],
   "source": []
  },
  {
   "cell_type": "markdown",
   "id": "adcf9a38",
   "metadata": {},
   "source": [
    "#### 2.\n",
    "Haga las modificaciones necesarias para resolver el problema de obtener fracciones molares iguales\n",
    "a: $a(t_f)=0.7$, $0.9$, con $t_f \\in \\{5, 7, 10\\}$. Grafique la solucón y el control óptimo."
   ]
  },
  {
   "cell_type": "code",
   "execution_count": null,
   "id": "5cbcf6b6",
   "metadata": {},
   "outputs": [],
   "source": []
  },
  {
   "cell_type": "markdown",
   "id": "8f34cd60",
   "metadata": {},
   "source": [
    "#### 3.\n",
    "Ahora estamos interesados en maximizar la producción de $C$ pero con cantidades molares, al final\n",
    "del tiempo para $A$ y $B$, por encima de $0.8$ y $0.05$ respectivamente, para cada uno de los $t_f$ del item anterior. Haga las modificaciones necesarias para resolver este nuevo problema. Grafique la solución y el control óptimo."
   ]
  },
  {
   "cell_type": "code",
   "execution_count": null,
   "id": "f12486a5",
   "metadata": {},
   "outputs": [],
   "source": []
  },
  {
   "cell_type": "markdown",
   "id": "0c7855e2",
   "metadata": {},
   "source": [
    "### Ejercicio 7"
   ]
  },
  {
   "cell_type": "markdown",
   "id": "96d4da30",
   "metadata": {},
   "source": [
    "Considere el siguiente problema de control óptimo:\n",
    "\n",
    "$$\n",
    "\\min_{u(\\cdot)} \\int_{0}^{t_f} u(t)^2dt; \\quad y^{(3)}(t) = u(t); \\quad y(t)\\geq 0,\n",
    "$$\n",
    "con $t_f = 10$, $y(0)=1$, $\\dot{y}(0)=-2$, $\\ddot{y}(0) = 0$, $\\dot{y}(t_f) = 0$ y $\\ddot{t_f} = 0$. Note que el criterio depende del control entonces se deve modificar el problema para resolver con $\\texttt{BOCOP}$.\n",
    "\n",
    "Se recomienda revisar una variantes de este problema que ya esta programado y es uno de los ejemplos que viene que con $\\texttt{BOCOP}, el cual se puede encontrar en la carpeta \"examples/robbins\","
   ]
  },
  {
   "cell_type": "markdown",
   "id": "11785fd2",
   "metadata": {},
   "source": [
    "#### 1.\n",
    "Primeramente indentifique el sistema que modela este problema y luego introduzca una nueva\n",
    "variable de estado $z$ tal que $z(t_f ) = \\int^{t_f}_0 u(t)^2 dt$. ¿Cuál es la dinámica y la condición inicial de $z$?"
   ]
  },
  {
   "cell_type": "code",
   "execution_count": null,
   "id": "4ae8b91f",
   "metadata": {},
   "outputs": [],
   "source": []
  },
  {
   "cell_type": "markdown",
   "id": "687b7bd3",
   "metadata": {},
   "source": [
    "#### 2.\n",
    "Usando esta variable adicional, escribe un problema de Mayer (M) que es equivalente al problema\n",
    "(B). Identifique las funciones $J$, $f$, $\\Phi$ y $g$."
   ]
  },
  {
   "cell_type": "code",
   "execution_count": null,
   "id": "f09120d1",
   "metadata": {},
   "outputs": [],
   "source": []
  },
  {
   "cell_type": "markdown",
   "id": "f41aa26f",
   "metadata": {},
   "source": [
    "#### 3.\n",
    "Resuelva este problema considerando $y(t) \\leq 1$, $5$ en cada instante de tiempo y $\\ddot{y}(t_f) = 3$, $5$, $7$. Grafique los resultados encontrados"
   ]
  },
  {
   "cell_type": "code",
   "execution_count": null,
   "id": "29dbbf7b",
   "metadata": {},
   "outputs": [],
   "source": []
  },
  {
   "cell_type": "markdown",
   "id": "e6d48cdd",
   "metadata": {},
   "source": [
    "#### 4.\n",
    "Considere ahora que se quiere incluir en la función objetivo el termino $α · y$ con $α = 3$. Resuelva el problema para los mismos valores del item anterior."
   ]
  },
  {
   "cell_type": "code",
   "execution_count": null,
   "id": "02c9d03b",
   "metadata": {},
   "outputs": [],
   "source": []
  }
 ],
 "metadata": {
  "kernelspec": {
   "display_name": "Python 3 (ipykernel)",
   "language": "python",
   "name": "python3"
  },
  "language_info": {
   "codemirror_mode": {
    "name": "ipython",
    "version": 3
   },
   "file_extension": ".py",
   "mimetype": "text/x-python",
   "name": "python",
   "nbconvert_exporter": "python",
   "pygments_lexer": "ipython3",
   "version": "3.8.5"
  }
 },
 "nbformat": 4,
 "nbformat_minor": 5
}
